{
 "cells": [
  {
   "cell_type": "markdown",
   "id": "3a2de2fe",
   "metadata": {},
   "source": [
    "# IMPORTING LIBRARIES"
   ]
  },
  {
   "cell_type": "code",
   "execution_count": 1,
   "id": "044b554b",
   "metadata": {},
   "outputs": [],
   "source": [
    "import cv2\n",
    "import numpy as np"
   ]
  },
  {
   "cell_type": "code",
   "execution_count": 2,
   "id": "3443cf50",
   "metadata": {
    "scrolled": true
   },
   "outputs": [],
   "source": [
    "# load YOLO\n",
    "net = cv2.dnn.readNet(\"yolov3.weights\", \"yolov3.cfg\")\n",
    "layer_names = net.getLayerNames()\n",
    "unconnected_layers = net.getUnconnectedOutLayers()\n",
    "\n",
    "# Check if unconnected_layers is a 1D array or 2D array\n",
    "if isinstance(unconnected_layers, (list, np.ndarray)) and isinstance(unconnected_layers[0], list):\n",
    "    output_layers = [layer_names[i[0] - 1] for i in unconnected_layers]\n",
    "else:\n",
    "    output_layers = [layer_names[i - 1] for i in unconnected_layers]\n",
    "\n",
    "with open(\"coco.names\", \"r\") as f:\n",
    "    classes = [line.strip() for line in f.readlines()]"
   ]
  },
  {
   "cell_type": "code",
   "execution_count": null,
   "id": "85bf561a",
   "metadata": {},
   "outputs": [],
   "source": [
    "# Load video from a file or camera feed (e.g., \"video.mp4\" or an empty string for the default webcam)\n",
    "cap = cv2.VideoCapture(\"4K Road traffic video for object detection and tracking - free download now!.mp4\")\n",
    "\n",
    "# Continuously capture frames from the video source\n",
    "while cap.isOpened():\n",
    "    # Read the next frame from the video\n",
    "    ret, frame = cap.read()\n",
    "    \n",
    "    # If the frame was not captured successfully (end of video or error), break the loop\n",
    "    if not ret:\n",
    "        break\n",
    "\n",
    "    # Get the dimensions of the frame (height, width, and number of channels)\n",
    "    height, width, channels = frame.shape\n",
    "\n",
    "    # Convert the frame into a blob (preprocessing step for YOLO) resize to 416x416, scale, and normalize\n",
    "    blob = cv2.dnn.blobFromImage(frame, 1/255, (416, 416), (0, 0, 0), swapRB = True, crop=False)\n",
    "    \n",
    "    # Pass the blob as input to the YOLO model\n",
    "    net.setInput(blob)\n",
    "    \n",
    "    # Perform forward pass to get the output layers of the YOLO model (predictions)\n",
    "    outs = net.forward(output_layers)\n",
    "\n",
    "    # Initialize lists to store detection results: class IDs, confidences, and bounding boxes\n",
    "    class_ids = []\n",
    "    confidences = []\n",
    "    boxes = []\n",
    "\n",
    "    # Loop over each output from the YOLO model\n",
    "    for out in outs:\n",
    "        # Loop over each detection in the output\n",
    "        for detection in out:\n",
    "            # Extract scores for all object classes starting from the 6th element onward (ignoring bbox coordinates)\n",
    "            scores = detection[5:]\n",
    "            # Get the index of the class with the highest score (i.e., the detected object class)\n",
    "            class_id = np.argmax(scores)\n",
    "            # Get the confidence score for the detected object class\n",
    "            confidence = scores[class_id]\n",
    "            \n",
    "            # Only consider detections with confidence above 0.5 and specifically for the class \"car\"\n",
    "            if confidence > 0.5 and class_id == classes.index(\"car\"):\n",
    "                # Object detected, calculate center coordinates and size of the bounding box\n",
    "                center_x = int(detection[0] * width)\n",
    "                center_y = int(detection[1] * height)\n",
    "                w = int(detection[2] * width)\n",
    "                h = int(detection[3] * height)\n",
    "\n",
    "                # Calculate the top-left corner of the bounding box\n",
    "                x = int(center_x - w / 2)\n",
    "                y = int(center_y - h / 2)\n",
    "\n",
    "                # Store the bounding box, confidence, and class ID\n",
    "                boxes.append([x, y, w, h])\n",
    "                confidences.append(float(confidence))\n",
    "                class_ids.append(class_id)\n",
    "\n",
    "    # Apply non-maxima suppression to remove overlapping bounding boxes with lower confidence\n",
    "    indexes = cv2.dnn.NMSBoxes(boxes, confidences, 0.5, 0.4)\n",
    "\n",
    "    # Loop over the remaining boxes after non-maxima suppression\n",
    "    for i in range(len(boxes)):\n",
    "        # Only proceed if the current box is kept after suppression\n",
    "        if i in indexes:\n",
    "            # Get the coordinates of the bounding box\n",
    "            x, y, w, h = boxes[i]\n",
    "            # Get the class label (e.g., \"car\") for the detected object\n",
    "            label = str(classes[class_ids[i]])\n",
    "            # Draw the bounding box around the detected object in green\n",
    "            cv2.rectangle(frame, (x, y), (x + w, y + h), (0, 255, 0), 2)\n",
    "            # Put the class label above the bounding box\n",
    "            cv2.putText(frame, label, (x, y - 10), cv2.FONT_HERSHEY_PLAIN, 1, (0, 255, 0), 2)\n",
    "\n",
    "    # Display the processed frame with bounding boxes and labels\n",
    "    cv2.imshow(\"Video\", frame)\n",
    "    \n",
    "    # Check if the user pressed the \"q\" key; if so, exit the loop\n",
    "    if cv2.waitKey(1) & 0xFF == ord(\"q\"):\n",
    "        break\n",
    "\n",
    "# Release the video capture object\n",
    "cap.release()\n",
    "# Close all OpenCV windows\n",
    "cv2.destroyAllWindows()"
   ]
  },
  {
   "cell_type": "code",
   "execution_count": null,
   "id": "563d7254",
   "metadata": {},
   "outputs": [],
   "source": []
  }
 ],
 "metadata": {
  "kernelspec": {
   "display_name": "Python 3 (ipykernel)",
   "language": "python",
   "name": "python3"
  },
  "language_info": {
   "codemirror_mode": {
    "name": "ipython",
    "version": 3
   },
   "file_extension": ".py",
   "mimetype": "text/x-python",
   "name": "python",
   "nbconvert_exporter": "python",
   "pygments_lexer": "ipython3",
   "version": "3.10.9"
  }
 },
 "nbformat": 4,
 "nbformat_minor": 5
}
